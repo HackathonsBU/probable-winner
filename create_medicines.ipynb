{
 "cells": [
  {
   "cell_type": "code",
   "execution_count": 27,
   "metadata": {
    "collapsed": true
   },
   "outputs": [],
   "source": [
    "import pandas as pd\n",
    "import warnings\n",
    "\n",
    "warnings.simplefilter(\"ignore\")\n",
    "df = pd.read_csv(\"Warehouse_Data/dataset.csv\")"
   ]
  },
  {
   "cell_type": "code",
   "execution_count": 28,
   "outputs": [
    {
     "data": {
      "text/plain": "                                    Disease                    Medicine\n0                          Fungal infection                clotrimazole\n1                                   Allergy                  Cetirizine\n2                                      GERD                esomeprazole\n3                       Chronic cholestasis                    ursodiol\n4                             Drug Reaction                    Benadryl\n5                       Peptic ulcer diseae                  omeprazole\n6                                      AIDS  You Have To Consult Doctor\n7                                 Diabetes                     Fortamet\n8                           Gastroenteritis                     A MED 9\n9                          Bronchial Asthma                    A MED 10\n10                            Hypertension                     A MED 11\n11                                 Migraine                    A MED 12\n12                     Cervical spondylosis                    A MED 13\n13             Paralysis (brain hemorrhage)                    A MED 14\n14                                 Jaundice                    A MED 15\n15                                  Malaria                    A MED 16\n16                              Chicken pox                    A MED 17\n17                                   Dengue                    A MED 18\n18                                  Typhoid                    A MED 19\n19                              hepatitis A                    A MED 20\n20                              Hepatitis B                    A MED 21\n21                              Hepatitis C                    A MED 22\n22                              Hepatitis D                    A MED 23\n23                              Hepatitis E                    A MED 24\n24                      Alcoholic hepatitis                    A MED 25\n25                             Tuberculosis                    A MED 26\n26                              Common Cold                    A MED 27\n27                                Pneumonia                    A MED 28\n28             Dimorphic hemmorhoids(piles)                    A MED 29\n29                             Heart attack                     Aspirin\n30                           Varicose veins                    A MED 31\n31                           Hypothyroidism                    A MED 32\n32                          Hyperthyroidism                    A MED 34\n33                             Hypoglycemia                    A MED 35\n34                          Osteoarthristis                    A MED 36\n35                                Arthritis                    A MED 37\n36  (vertigo) Paroymsal  Positional Vertigo                    A MED 38\n37                                     Acne                    A MED 39\n38                  Urinary tract infection                    A MED 40\n39                                Psoriasis                    A MED 41\n40                                 Impetigo                    A MED 42",
      "text/html": "<div>\n<style scoped>\n    .dataframe tbody tr th:only-of-type {\n        vertical-align: middle;\n    }\n\n    .dataframe tbody tr th {\n        vertical-align: top;\n    }\n\n    .dataframe thead th {\n        text-align: right;\n    }\n</style>\n<table border=\"1\" class=\"dataframe\">\n  <thead>\n    <tr style=\"text-align: right;\">\n      <th></th>\n      <th>Disease</th>\n      <th>Medicine</th>\n    </tr>\n  </thead>\n  <tbody>\n    <tr>\n      <th>0</th>\n      <td>Fungal infection</td>\n      <td>clotrimazole</td>\n    </tr>\n    <tr>\n      <th>1</th>\n      <td>Allergy</td>\n      <td>Cetirizine</td>\n    </tr>\n    <tr>\n      <th>2</th>\n      <td>GERD</td>\n      <td>esomeprazole</td>\n    </tr>\n    <tr>\n      <th>3</th>\n      <td>Chronic cholestasis</td>\n      <td>ursodiol</td>\n    </tr>\n    <tr>\n      <th>4</th>\n      <td>Drug Reaction</td>\n      <td>Benadryl</td>\n    </tr>\n    <tr>\n      <th>5</th>\n      <td>Peptic ulcer diseae</td>\n      <td>omeprazole</td>\n    </tr>\n    <tr>\n      <th>6</th>\n      <td>AIDS</td>\n      <td>You Have To Consult Doctor</td>\n    </tr>\n    <tr>\n      <th>7</th>\n      <td>Diabetes</td>\n      <td>Fortamet</td>\n    </tr>\n    <tr>\n      <th>8</th>\n      <td>Gastroenteritis</td>\n      <td>A MED 9</td>\n    </tr>\n    <tr>\n      <th>9</th>\n      <td>Bronchial Asthma</td>\n      <td>A MED 10</td>\n    </tr>\n    <tr>\n      <th>10</th>\n      <td>Hypertension</td>\n      <td>A MED 11</td>\n    </tr>\n    <tr>\n      <th>11</th>\n      <td>Migraine</td>\n      <td>A MED 12</td>\n    </tr>\n    <tr>\n      <th>12</th>\n      <td>Cervical spondylosis</td>\n      <td>A MED 13</td>\n    </tr>\n    <tr>\n      <th>13</th>\n      <td>Paralysis (brain hemorrhage)</td>\n      <td>A MED 14</td>\n    </tr>\n    <tr>\n      <th>14</th>\n      <td>Jaundice</td>\n      <td>A MED 15</td>\n    </tr>\n    <tr>\n      <th>15</th>\n      <td>Malaria</td>\n      <td>A MED 16</td>\n    </tr>\n    <tr>\n      <th>16</th>\n      <td>Chicken pox</td>\n      <td>A MED 17</td>\n    </tr>\n    <tr>\n      <th>17</th>\n      <td>Dengue</td>\n      <td>A MED 18</td>\n    </tr>\n    <tr>\n      <th>18</th>\n      <td>Typhoid</td>\n      <td>A MED 19</td>\n    </tr>\n    <tr>\n      <th>19</th>\n      <td>hepatitis A</td>\n      <td>A MED 20</td>\n    </tr>\n    <tr>\n      <th>20</th>\n      <td>Hepatitis B</td>\n      <td>A MED 21</td>\n    </tr>\n    <tr>\n      <th>21</th>\n      <td>Hepatitis C</td>\n      <td>A MED 22</td>\n    </tr>\n    <tr>\n      <th>22</th>\n      <td>Hepatitis D</td>\n      <td>A MED 23</td>\n    </tr>\n    <tr>\n      <th>23</th>\n      <td>Hepatitis E</td>\n      <td>A MED 24</td>\n    </tr>\n    <tr>\n      <th>24</th>\n      <td>Alcoholic hepatitis</td>\n      <td>A MED 25</td>\n    </tr>\n    <tr>\n      <th>25</th>\n      <td>Tuberculosis</td>\n      <td>A MED 26</td>\n    </tr>\n    <tr>\n      <th>26</th>\n      <td>Common Cold</td>\n      <td>A MED 27</td>\n    </tr>\n    <tr>\n      <th>27</th>\n      <td>Pneumonia</td>\n      <td>A MED 28</td>\n    </tr>\n    <tr>\n      <th>28</th>\n      <td>Dimorphic hemmorhoids(piles)</td>\n      <td>A MED 29</td>\n    </tr>\n    <tr>\n      <th>29</th>\n      <td>Heart attack</td>\n      <td>Aspirin</td>\n    </tr>\n    <tr>\n      <th>30</th>\n      <td>Varicose veins</td>\n      <td>A MED 31</td>\n    </tr>\n    <tr>\n      <th>31</th>\n      <td>Hypothyroidism</td>\n      <td>A MED 32</td>\n    </tr>\n    <tr>\n      <th>32</th>\n      <td>Hyperthyroidism</td>\n      <td>A MED 34</td>\n    </tr>\n    <tr>\n      <th>33</th>\n      <td>Hypoglycemia</td>\n      <td>A MED 35</td>\n    </tr>\n    <tr>\n      <th>34</th>\n      <td>Osteoarthristis</td>\n      <td>A MED 36</td>\n    </tr>\n    <tr>\n      <th>35</th>\n      <td>Arthritis</td>\n      <td>A MED 37</td>\n    </tr>\n    <tr>\n      <th>36</th>\n      <td>(vertigo) Paroymsal  Positional Vertigo</td>\n      <td>A MED 38</td>\n    </tr>\n    <tr>\n      <th>37</th>\n      <td>Acne</td>\n      <td>A MED 39</td>\n    </tr>\n    <tr>\n      <th>38</th>\n      <td>Urinary tract infection</td>\n      <td>A MED 40</td>\n    </tr>\n    <tr>\n      <th>39</th>\n      <td>Psoriasis</td>\n      <td>A MED 41</td>\n    </tr>\n    <tr>\n      <th>40</th>\n      <td>Impetigo</td>\n      <td>A MED 42</td>\n    </tr>\n  </tbody>\n</table>\n</div>"
     },
     "execution_count": 28,
     "metadata": {},
     "output_type": "execute_result"
    }
   ],
   "source": [
    "disease = df[\"Disease\"].unique()\n",
    "disease_meds = {\"Disease\": disease}\n",
    "disease_meds = pd.DataFrame(disease_meds)\n",
    "disease_meds\n",
    "medicines = [\"clotrimazole\", \"Cetirizine\", \"esomeprazole\", \"ursodiol\", \"Benadryl\", \"omeprazole\", \"You Have To Consult Doctor\", \"Fortamet\", \"A MED 9\", \"A MED 10\", \"A MED 11\", \"A MED 12\", \"A MED 13\", \"A MED 14\", \"A MED 15\", \"A MED 16\", \"A MED 17\", \"A MED 18\", \"A MED 19\", \"A MED 20\", \"A MED 21\", \"A MED 22\", \"A MED 23\", \"A MED 24\", \"A MED 25\", \"A MED 26\", \"A MED 27\", \"A MED 28\", \"A MED 29\", \"Aspirin\", \"A MED 31\", \"A MED 32\", \"A MED 34\", \"A MED 35\", \"A MED 36\", \"A MED 37\", \"A MED 38\", \"A MED 39\", \"A MED 40\", \"A MED 41\", \"A MED 42\"]\n",
    "disease_meds[\"Medicine\"] = medicines\n",
    "disease_meds"
   ],
   "metadata": {
    "collapsed": false
   }
  },
  {
   "cell_type": "code",
   "execution_count": 34,
   "outputs": [
    {
     "data": {
      "text/plain": "'Cetirizine'"
     },
     "execution_count": 34,
     "metadata": {},
     "output_type": "execute_result"
    }
   ],
   "source": [
    "disease_meds[disease_meds[\"Disease\"] == \"Allergy\"][\"Medicine\"].item()"
   ],
   "metadata": {
    "collapsed": false
   }
  },
  {
   "cell_type": "code",
   "execution_count": null,
   "outputs": [],
   "source": [],
   "metadata": {
    "collapsed": false
   }
  }
 ],
 "metadata": {
  "kernelspec": {
   "display_name": "Python 3",
   "language": "python",
   "name": "python3"
  },
  "language_info": {
   "codemirror_mode": {
    "name": "ipython",
    "version": 2
   },
   "file_extension": ".py",
   "mimetype": "text/x-python",
   "name": "python",
   "nbconvert_exporter": "python",
   "pygments_lexer": "ipython2",
   "version": "2.7.6"
  }
 },
 "nbformat": 4,
 "nbformat_minor": 0
}
